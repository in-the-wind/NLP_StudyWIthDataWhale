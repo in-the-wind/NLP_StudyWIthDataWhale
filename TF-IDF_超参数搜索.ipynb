{
 "cells": [
  {
   "cell_type": "code",
   "execution_count": null,
   "metadata": {
    "uuid": "ec6c2b16-081d-4d35-8f35-3058ac8930bd"
   },
   "outputs": [],
   "source": [
    "import pandas as pd\n",
    "\n",
    "from sklearn.feature_extraction.text import TfidfVectorizer\n",
    "from sklearn.linear_model import RidgeClassifier\n",
    "from sklearn.metrics import f1_score\n",
    "from sklearn.model_selection import RandomizedSearchCV,train_test_split\n",
    "\n",
    "train_df = pd.read_csv('../input/train_set.csv', sep='\\t')\n",
    "param_distribution = {\n",
    "    \"Ngram_range\":[(1,2),(1,3),(2,3)],\n",
    "    \"Max_features\": [1500,2000,2500,3000,3500],\n",
    "}\n",
    "train_data=train_df['text']\n",
    "train_target=train_df['label']\n",
    "train_num=160000\n",
    "def build_model(Ngram_range=(1,3),Max_features=3000):\n",
    "    tfidf = TfidfVectorizer(ngram_range=Ngram_range,max_features=Max_features)\n",
    "    x_train,x_valid, y_train, y_valid =train_test_split(train_data,train_target,test_size=0.2, random_state=0)\n",
    "    train_test = tfidf.fit_transform(train_data)\n",
    "    clf = RidgeClassifier()\n",
    "    clf.fit(train_test[:train_num], train_df['label'].values[:train_num])\n",
    "    return clf\n",
    "sklearn_model=build_model()\n",
    "random_search_cv = RandomizedSearchCV(sklearn_model,\n",
    "                                      param_distribution,\n",
    "                                      n_iter = 10,\n",
    "                                      cv = 3,\n",
    "                                      n_jobs = 1)                           \n",
    "random_search_cv.fit(x_train, y_train, epochs = 100,\n",
    "                        validation_data = (x_valid, y_valid),\n",
    "                        )\n",
    "    \n",
    "\n"
   ]
  },
  {
   "cell_type": "code",
   "execution_count": null,
   "metadata": {
    "uuid": "43af75b1-a547-4cbf-a8bd-9e49c31de863"
   },
   "outputs": [],
   "source": [
    "model = random_search_cv.best_estimator_.model\n",
    "model.evaluate(x_test_scaled, y_test)"
   ]
  },
  {
   "cell_type": "code",
   "execution_count": null,
   "metadata": {
    "uuid": "5e71f1cd-3895-4848-8245-028cb99377df"
   },
   "outputs": [],
   "source": [
    "val_pred = model.predict(train_test[train_num:])\n",
    "print(f1_score(train_df['label'].values[train_num:], val_pred, average='macro'))"
   ]
  }
 ],
 "metadata": {
  "kernelspec": {
   "display_name": "Python 3",
   "language": "python",
   "name": "python3"
  },
  "language_info": {
   "codemirror_mode": {
    "name": "ipython",
    "version": 3
   },
   "file_extension": ".py",
   "mimetype": "text/x-python",
   "name": "python",
   "nbconvert_exporter": "python",
   "pygments_lexer": "ipython3",
   "version": "3.6.4"
  }
 },
 "nbformat": 4,
 "nbformat_minor": 2
}
